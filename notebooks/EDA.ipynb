{
 "cells": [
  {
   "cell_type": "code",
   "execution_count": null,
   "metadata": {},
   "outputs": [],
   "source": [
    "# Import libraries\n",
    "import yfinance as yf\n",
    "import pandas as pd\n",
    "import numpy as np\n",
    "from statsmodels.tsa.arima.model import ARIMA\n",
    "from statsmodels.tsa.holtwinters import ExponentialSmoothing\n",
    "from prophet import Prophet\n",
    "from sklearn.metrics import mean_squared_error, mean_absolute_percentage_error\n",
    "from math import sqrt\n",
    "import matplotlib.pyplot as plt"
   ]
  },
  {
   "cell_type": "code",
   "execution_count": null,
   "metadata": {},
   "outputs": [],
   "source": [
    "tickers = ['TSLA', 'BND', 'SPY']\n",
    "start_date = '2015-01-01'\n",
    "end_date = '2024-10-31'"
   ]
  },
  {
   "cell_type": "code",
   "execution_count": null,
   "metadata": {},
   "outputs": [],
   "source": [
    "# Download data\n",
    "data = yf.download(tickers, start=start_date, end=end_date, group_by='ticker')\n",
    "combined_data = pd.DataFrame({\n",
    "    'Date': data.index,\n",
    "    'TSLA': data['TSLA']['Adj Close'],\n",
    "    'BND': data['BND']['Adj Close'],\n",
    "    'SPY': data['SPY']['Adj Close']\n",
    "})\n",
    "combined_data.set_index('Date', inplace=True)\n",
    "combined_data.dropna(inplace=True)"
   ]
  },
  {
   "cell_type": "code",
   "execution_count": null,
   "metadata": {},
   "outputs": [],
   "source": [
    "# Step 2: Forecasting Models\n",
    "train_size = int(0.8 * len(combined_data))\n",
    "train = combined_data.iloc[:train_size]\n",
    "test = combined_data.iloc[train_size:]"
   ]
  },
  {
   "cell_type": "code",
   "execution_count": null,
   "metadata": {},
   "outputs": [],
   "source": [
    "# Function to train and forecast with ARIMA\n",
    "def train_arima(train_series, test_series, order=(1, 1, 1)):\n",
    "    model = ARIMA(train_series, order=order).fit()\n",
    "    forecast = model.forecast(steps=len(test_series))\n",
    "    rmse = sqrt(mean_squared_error(test_series, forecast))\n",
    "    mape = mean_absolute_percentage_error(test_series, forecast)\n",
    "    return forecast, rmse, mape"
   ]
  },
  {
   "cell_type": "code",
   "execution_count": null,
   "metadata": {},
   "outputs": [],
   "source": [
    "# Function to train and forecast with Exponential Smoothing\n",
    "def train_exponential_smoothing(train_series, test_series):\n",
    "    model = ExponentialSmoothing(train_series, trend='add', seasonal='add', seasonal_periods=12).fit()\n",
    "    forecast = model.forecast(steps=len(test_series))\n",
    "    rmse = sqrt(mean_squared_error(test_series, forecast))\n",
    "    mape = mean_absolute_percentage_error(test_series, forecast)\n",
    "    return forecast, rmse, mape"
   ]
  },
  {
   "cell_type": "code",
   "execution_count": null,
   "metadata": {},
   "outputs": [],
   "source": [
    "# Function to train and forecast with Prophet\n",
    "def train_prophet(train_df, test_series):\n",
    "    prophet_df = train_df.reset_index().rename(columns={'Date': 'ds', train_df.columns[0]: 'y'})\n",
    "    # Remove timezone information from the 'ds' column\n",
    "    prophet_df['ds'] = prophet_df['ds'].dt.tz_localize(None)\n",
    "    model = Prophet()\n",
    "    model.fit(prophet_df)\n",
    "    future = model.make_future_dataframe(periods=len(test_series), freq='D')\n",
    "    forecast = model.predict(future)\n",
    "    rmse = sqrt(mean_squared_error(test_series, forecast['yhat'][-len(test_series):]))\n",
    "    mape = mean_absolute_percentage_error(test_series, forecast['yhat'][-len(test_series):])\n",
    "    return forecast['yhat'][-len(test_series):], rmse, mape"
   ]
  },
  {
   "cell_type": "code",
   "execution_count": null,
   "metadata": {},
   "outputs": [],
   "source": [
    "# Display results\n",
    "print(\"ARIMA RMSE:\", arima_rmse, \"| MAPE:\", arima_mape)\n",
    "print(\"Exponential Smoothing RMSE:\", es_rmse, \"| MAPE:\", es_mape)\n",
    "print(\"Prophet RMSE:\", prophet_rmse, \"| MAPE:\", prophet_mape)"
   ]
  },
  {
   "cell_type": "code",
   "execution_count": null,
   "metadata": {},
   "outputs": [],
   "source": [
    "# Step 3: Plotting results for visualization\n",
    "plt.figure(figsize=(14, 7))\n",
    "plt.plot(train.index, train['TSLA'], label='Train')\n",
    "plt.plot(test.index, test['TSLA'], label='Test')\n",
    "plt.plot(test.index, arima_forecast, label='ARIMA Forecast')\n",
    "plt.plot(test.index, es_forecast, label='Exponential Smoothing Forecast')\n",
    "plt.plot(test.index, prophet_forecast, label='Prophet Forecast')\n",
    "plt.legend(loc='upper left')\n",
    "plt.title('TSLA Time Series Model Comparison')\n",
    "plt.show()"
   ]
  },
  {
   "cell_type": "code",
   "execution_count": null,
   "metadata": {},
   "outputs": [],
   "source": [
    "# Step 4: Portfolio Optimization (Basic Example)\n",
    "daily_returns = combined_data.pct_change().dropna()\n",
    "mean_daily_returns = daily_returns.mean()\n",
    "cov_matrix = daily_returns.cov()"
   ]
  },
  {
   "cell_type": "code",
   "execution_count": null,
   "metadata": {},
   "outputs": [],
   "source": [
    "# Simulate portfolio weights and returns\n",
    "num_portfolios = 10000\n",
    "results = np.zeros((3, num_portfolios))\n",
    "for i in range(num_portfolios):\n",
    "    weights = np.random.random(len(tickers))\n",
    "    weights /= np.sum(weights)\n",
    "    portfolio_return = np.sum(mean_daily_returns * weights) * 252\n",
    "    portfolio_volatility = np.sqrt(np.dot(weights.T, np.dot(cov_matrix * 252, weights)))\n",
    "    sharpe_ratio = portfolio_return / portfolio_volatility\n",
    "    results[0, i] = portfolio_return\n",
    "    results[1, i] = portfolio_volatility\n",
    "    results[2, i] = sharpe_ratio\n"
   ]
  },
  {
   "cell_type": "code",
   "execution_count": null,
   "metadata": {},
   "outputs": [],
   "source": [
    "# Plotting the portfolio simulations\n",
    "plt.scatter(results[1, :], results[0, :], c=results[2, :], cmap='viridis')\n",
    "plt.colorbar(label='Sharpe Ratio')\n",
    "plt.xlabel('Volatility')\n",
    "plt.ylabel('Return')\n",
    "plt.title('Portfolio Optimization')\n",
    "plt.show()"
   ]
  }
 ],
 "metadata": {
  "kernelspec": {
   "display_name": "myenv",
   "language": "python",
   "name": "python3"
  },
  "language_info": {
   "codemirror_mode": {
    "name": "ipython",
    "version": 3
   },
   "file_extension": ".py",
   "mimetype": "text/x-python",
   "name": "python",
   "nbconvert_exporter": "python",
   "pygments_lexer": "ipython3",
   "version": "3.10.2"
  }
 },
 "nbformat": 4,
 "nbformat_minor": 2
}
